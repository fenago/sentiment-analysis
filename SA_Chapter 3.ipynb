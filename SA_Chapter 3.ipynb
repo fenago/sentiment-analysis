{
 "cells": [
  {
   "cell_type": "code",
   "execution_count": 1,
   "id": "d4a0ce6e",
   "metadata": {},
   "outputs": [
    {
     "name": "stderr",
     "output_type": "stream",
     "text": [
      "[nltk_data] Downloading package punkt to\n",
      "[nltk_data]     C:\\Users\\Bhara\\AppData\\Roaming\\nltk_data...\n",
      "[nltk_data]   Package punkt is already up-to-date!\n",
      "[nltk_data] Downloading package stopwords to\n",
      "[nltk_data]     C:\\Users\\Bhara\\AppData\\Roaming\\nltk_data...\n",
      "[nltk_data]   Package stopwords is already up-to-date!\n",
      "[nltk_data] Downloading package wordnet to\n",
      "[nltk_data]     C:\\Users\\Bhara\\AppData\\Roaming\\nltk_data...\n",
      "[nltk_data]   Package wordnet is already up-to-date!\n",
      "[nltk_data] Downloading package averaged_perceptron_tagger to\n",
      "[nltk_data]     C:\\Users\\Bhara\\AppData\\Roaming\\nltk_data...\n",
      "[nltk_data]   Package averaged_perceptron_tagger is already up-to-\n",
      "[nltk_data]       date!\n",
      "[nltk_data] Downloading package maxent_ne_chunker to\n",
      "[nltk_data]     C:\\Users\\Bhara\\AppData\\Roaming\\nltk_data...\n",
      "[nltk_data]   Package maxent_ne_chunker is already up-to-date!\n",
      "[nltk_data] Downloading package words to\n",
      "[nltk_data]     C:\\Users\\Bhara\\AppData\\Roaming\\nltk_data...\n",
      "[nltk_data]   Package words is already up-to-date!\n"
     ]
    },
    {
     "data": {
      "text/plain": [
       "True"
      ]
     },
     "execution_count": 1,
     "metadata": {},
     "output_type": "execute_result"
    }
   ],
   "source": [
    "import nltk\n",
    "nltk.download('punkt')\n",
    "nltk.download('stopwords')\n",
    "nltk.download('wordnet')\n",
    "nltk.download('averaged_perceptron_tagger')\n",
    "nltk.download('maxent_ne_chunker')\n",
    "nltk.download('words')"
   ]
  },
  {
   "cell_type": "code",
   "execution_count": 2,
   "id": "ccf899f2",
   "metadata": {},
   "outputs": [],
   "source": [
    "data = '''Abraham Lincoln was an American lawyer and statesman who \n",
    "served as the 16th president of the United States from 1861 until his \n",
    "assassination in 1865. Lincoln led the nation through the American \n",
    "Civil War, the country's greatest moral, cultural, constitutional, \n",
    "and political crisis. He succeeded in preserving the Union, \n",
    "abolishing slavery, bolstering the federal government, \n",
    "and modernizing the U.S. economy.'''"
   ]
  },
  {
   "cell_type": "code",
   "execution_count": 3,
   "id": "62e305f4",
   "metadata": {},
   "outputs": [
    {
     "name": "stdout",
     "output_type": "stream",
     "text": [
      "['Abraham Lincoln was an American lawyer and statesman who \\nserved as the 16th president of the United States from 1861 until his \\nassassination in 1865.', \"Lincoln led the nation through the American \\nCivil War, the country's greatest moral, cultural, constitutional, \\nand political crisis.\", 'He succeeded in preserving the Union, \\nabolishing slavery, bolstering the federal government, \\nand modernizing the U.S. economy.']\n"
     ]
    }
   ],
   "source": [
    "print(nltk.sent_tokenize(data))"
   ]
  },
  {
   "cell_type": "code",
   "execution_count": 4,
   "id": "b098c30d",
   "metadata": {},
   "outputs": [
    {
     "name": "stdout",
     "output_type": "stream",
     "text": [
      "['Abraham', 'Lincoln', 'was', 'an', 'American', 'lawyer', 'and', 'statesman', 'who', 'served', 'as', 'the', '16th', 'president', 'of', 'the', 'United', 'States', 'from', '1861', 'until', 'his', 'assassination', 'in', '1865', '.', 'Lincoln', 'led', 'the', 'nation', 'through', 'the', 'American', 'Civil', 'War', ',', 'the', 'country', \"'s\", 'greatest', 'moral', ',', 'cultural', ',', 'constitutional', ',', 'and', 'political', 'crisis', '.', 'He', 'succeeded', 'in', 'preserving', 'the', 'Union', ',', 'abolishing', 'slavery', ',', 'bolstering', 'the', 'federal', 'government', ',', 'and', 'modernizing', 'the', 'U.S.', 'economy', '.']\n"
     ]
    }
   ],
   "source": [
    "print(nltk.word_tokenize(data))"
   ]
  },
  {
   "cell_type": "code",
   "execution_count": 5,
   "id": "5655b856",
   "metadata": {},
   "outputs": [],
   "source": [
    "from nltk.stem import PorterStemmer\n",
    "from nltk.stem import LancasterStemmer, SnowballStemmer\n",
    "from nltk.corpus import stopwords"
   ]
  },
  {
   "cell_type": "code",
   "execution_count": 6,
   "id": "8fce5b2d",
   "metadata": {},
   "outputs": [
    {
     "name": "stdout",
     "output_type": "stream",
     "text": [
      "Porter stemmer\n",
      "hobbi\n",
      "hobbi\n",
      "comput\n",
      "comput\n",
      "**************************\n",
      "lancaster stemmer\n",
      "hobby\n",
      "hobby\n",
      "comput\n",
      "comput\n",
      "**************************\n",
      "Snowball stemmer\n",
      "hobbi\n",
      "hobbi\n",
      "comput\n",
      "comput\n"
     ]
    }
   ],
   "source": [
    "lancaster = LancasterStemmer()\n",
    "porter = PorterStemmer()\n",
    "Snowball = SnowballStemmer(\"english\")\n",
    "print('Porter stemmer')\n",
    "print(porter.stem(\"hobby\"))\n",
    "print(porter.stem(\"hobbies\"))\n",
    "print(porter.stem(\"computer\"))\n",
    "print(porter.stem(\"computation\"))\n",
    "print(\"**************************\")  \n",
    "print('lancaster stemmer')\n",
    "print(lancaster.stem(\"hobby\"))\n",
    "print(lancaster.stem(\"hobbies\"))\n",
    "print(lancaster.stem(\"computer\"))\n",
    "print(porter.stem(\"computation\"))\n",
    "print(\"**************************\")  \n",
    "print('Snowball stemmer')\n",
    "print(Snowball.stem(\"hobby\"))\n",
    "print(Snowball.stem(\"hobbies\"))\n",
    "print(Snowball.stem(\"computer\"))\n",
    "print(Snowball.stem(\"computation\"))"
   ]
  },
  {
   "cell_type": "code",
   "execution_count": 7,
   "id": "ab4aa440",
   "metadata": {},
   "outputs": [
    {
     "name": "stdout",
     "output_type": "stream",
     "text": [
      "i was go to the offic on my bike wheni saw a car pass by hit the tree .\n",
      "i was going to the off on my bik when saw a car pass by hit the tre .\n",
      "i wa go to the offic on my bike wheni saw a car pass by hit the tree .\n"
     ]
    }
   ],
   "source": [
    "sent = \"I was going to the office on my bike when\\\n",
    "i saw a car passing by hit the tree.\"\n",
    "token = list(nltk.word_tokenize(sent))\n",
    "for stemmer in (Snowball, lancaster, porter):\n",
    "    stemm = [stemmer.stem(t) for t in token]\n",
    "    print(\" \".join(stemm))"
   ]
  },
  {
   "cell_type": "code",
   "execution_count": 8,
   "id": "b516e745",
   "metadata": {},
   "outputs": [],
   "source": [
    "paragraph = \"\"\"I have three visions for India. In 3000 years of our history, people from all over \n",
    "               the world have come and invaded us, captured our lands, conquered our minds. \n",
    "               From Alexander onwards, the Greeks, the Turks, the Moguls, the Portuguese, the British,\n",
    "               the French, the Dutch, all of them came and looted us, took over what was ours. \n",
    "               Yet we have not done this to any other nation. We have not conquered anyone. \n",
    "               We have not grabbed their land, their culture, \n",
    "               their history and tried to enforce our way of life on them. \n",
    "               Why? Because we respect the freedom of others.That is why my \n",
    "               first vision is that of freedom. I believe that India got its first vision of \n",
    "               this in 1857, when we started the War of Independence. It is this freedom that\n",
    "               we must protect and nurture and build on. If we are not free, no one will respect us.\n",
    "               My second vision for India’s development. For fifty years we have been a developing nation.\n",
    "               It is time we see ourselves as a developed nation. We are among the top 5 nations of the world\n",
    "               in terms of GDP. We have a 10 percent growth rate in most areas. Our poverty levels are falling.\n",
    "               Our achievements are being globally recognised today. Yet we lack the self-confidence to\n",
    "               see ourselves as a developed nation, self-reliant and self-assured. Isn’t this incorrect?\n",
    "               I have a third vision. India must stand up to the world. Because I believe that unless India \n",
    "               stands up to the world, no one will respect us. Only strength respects strength. We must be \n",
    "               strong not only as a military power but also as an economic power. Both must go hand-in-hand. \n",
    "               My good fortune was to have worked with three great minds. Dr. Vikram Sarabhai of the Dept. of \n",
    "               space, Professor Satish Dhawan, who succeeded him and Dr. Brahm Prakash, father of nuclear material.\n",
    "               I was lucky to have worked with all three of them closely and consider this the great opportunity of my life. \n",
    "               I see four milestones in my career\"\"\""
   ]
  },
  {
   "cell_type": "code",
   "execution_count": 9,
   "id": "e22aede9",
   "metadata": {},
   "outputs": [
    {
     "data": {
      "text/plain": [
       "['i three vision india .',\n",
       " 'in 3000 year histori , peopl world come invad us , captur land , conquer mind .',\n",
       " 'from alexand onward , greek , turk , mogul , portugues , british , french , dutch , came loot us , took .',\n",
       " 'yet done nation .',\n",
       " 'we conquer anyon .',\n",
       " 'we grab land , cultur , histori tri enforc way life .',\n",
       " 'whi ?',\n",
       " 'becaus respect freedom others.that first vision freedom .',\n",
       " 'i believ india got first vision 1857 , start war independ .',\n",
       " 'it freedom must protect nurtur build .',\n",
       " 'if free , one respect us .',\n",
       " 'my second vision india ’ develop .',\n",
       " 'for fifti year develop nation .',\n",
       " 'it time see develop nation .',\n",
       " 'we among top 5 nation world term gdp .',\n",
       " 'we 10 percent growth rate area .',\n",
       " 'our poverti level fall .',\n",
       " 'our achiev global recognis today .',\n",
       " 'yet lack self-confid see develop nation , self-reli self-assur .',\n",
       " 'isn ’ incorrect ?',\n",
       " 'i third vision .',\n",
       " 'india must stand world .',\n",
       " 'becaus i believ unless india stand world , one respect us .',\n",
       " 'onli strength respect strength .',\n",
       " 'we must strong militari power also econom power .',\n",
       " 'both must go hand-in-hand .',\n",
       " 'my good fortun work three great mind .',\n",
       " 'dr. vikram sarabhai dept .',\n",
       " 'space , professor satish dhawan , succeed dr. brahm prakash , father nuclear materi .',\n",
       " 'i lucki work three close consid great opportun life .',\n",
       " 'i see four mileston career']"
      ]
     },
     "execution_count": 9,
     "metadata": {},
     "output_type": "execute_result"
    }
   ],
   "source": [
    "sentences = nltk.sent_tokenize(paragraph)\n",
    "stemmer = PorterStemmer()\n",
    "\n",
    "\n",
    "# Stemming\n",
    "for i in range(len(sentences)):\n",
    "    words = nltk.word_tokenize(sentences[i])\n",
    "    words = [stemmer.stem(word) for word in words if word not in set(stopwords.words('english'))]\n",
    "    sentences[i] = ' '.join(words)\n",
    "\n",
    "sentences"
   ]
  },
  {
   "cell_type": "code",
   "execution_count": 10,
   "id": "ab39c577",
   "metadata": {},
   "outputs": [],
   "source": [
    "from nltk.stem import WordNetLemmatizer"
   ]
  },
  {
   "cell_type": "code",
   "execution_count": 11,
   "id": "cb8151ed",
   "metadata": {},
   "outputs": [
    {
     "name": "stdout",
     "output_type": "stream",
     "text": [
      "running\n",
      "run\n",
      "ran\n"
     ]
    }
   ],
   "source": [
    "lemma = WordNetLemmatizer()\n",
    "\n",
    "print(lemma.lemmatize('running'))\n",
    "print(lemma.lemmatize('runs'))\n",
    "print(lemma.lemmatize('ran'))"
   ]
  },
  {
   "cell_type": "code",
   "execution_count": 12,
   "id": "4febd8ab",
   "metadata": {},
   "outputs": [
    {
     "data": {
      "text/plain": [
       "['I three vision India .',\n",
       " 'In 3000 year history , people world come invaded u , captured land , conquered mind .',\n",
       " 'From Alexander onwards , Greeks , Turks , Moguls , Portuguese , British , French , Dutch , came looted u , took .',\n",
       " 'Yet done nation .',\n",
       " 'We conquered anyone .',\n",
       " 'We grabbed land , culture , history tried enforce way life .',\n",
       " 'Why ?',\n",
       " 'Because respect freedom others.That first vision freedom .',\n",
       " 'I believe India got first vision 1857 , started War Independence .',\n",
       " 'It freedom must protect nurture build .',\n",
       " 'If free , one respect u .',\n",
       " 'My second vision India ’ development .',\n",
       " 'For fifty year developing nation .',\n",
       " 'It time see developed nation .',\n",
       " 'We among top 5 nation world term GDP .',\n",
       " 'We 10 percent growth rate area .',\n",
       " 'Our poverty level falling .',\n",
       " 'Our achievement globally recognised today .',\n",
       " 'Yet lack self-confidence see developed nation , self-reliant self-assured .',\n",
       " 'Isn ’ incorrect ?',\n",
       " 'I third vision .',\n",
       " 'India must stand world .',\n",
       " 'Because I believe unless India stand world , one respect u .',\n",
       " 'Only strength respect strength .',\n",
       " 'We must strong military power also economic power .',\n",
       " 'Both must go hand-in-hand .',\n",
       " 'My good fortune worked three great mind .',\n",
       " 'Dr. Vikram Sarabhai Dept .',\n",
       " 'space , Professor Satish Dhawan , succeeded Dr. Brahm Prakash , father nuclear material .',\n",
       " 'I lucky worked three closely consider great opportunity life .',\n",
       " 'I see four milestone career']"
      ]
     },
     "execution_count": 12,
     "metadata": {},
     "output_type": "execute_result"
    }
   ],
   "source": [
    "sentences = nltk.sent_tokenize(paragraph)\n",
    "lemmatizer = WordNetLemmatizer()\n",
    "\n",
    "# Lemmatization\n",
    "for i in range(len(sentences)):\n",
    "    words = nltk.word_tokenize(sentences[i])\n",
    "    words = [lemmatizer.lemmatize(word) for word in words if word not in set(stopwords.words('english'))]\n",
    "    sentences[i] = ' '.join(words) \n",
    "\n",
    "sentences"
   ]
  },
  {
   "cell_type": "code",
   "execution_count": 13,
   "id": "36d2aedc",
   "metadata": {},
   "outputs": [],
   "source": [
    "from nltk.corpus import stopwords"
   ]
  },
  {
   "cell_type": "code",
   "execution_count": 14,
   "id": "1ba48fa7",
   "metadata": {},
   "outputs": [
    {
     "data": {
      "text/plain": [
       "['i',\n",
       " 'me',\n",
       " 'my',\n",
       " 'myself',\n",
       " 'we',\n",
       " 'our',\n",
       " 'ours',\n",
       " 'ourselves',\n",
       " 'you',\n",
       " \"you're\",\n",
       " \"you've\",\n",
       " \"you'll\",\n",
       " \"you'd\",\n",
       " 'your',\n",
       " 'yours',\n",
       " 'yourself',\n",
       " 'yourselves',\n",
       " 'he',\n",
       " 'him',\n",
       " 'his',\n",
       " 'himself',\n",
       " 'she',\n",
       " \"she's\",\n",
       " 'her',\n",
       " 'hers',\n",
       " 'herself',\n",
       " 'it',\n",
       " \"it's\",\n",
       " 'its',\n",
       " 'itself',\n",
       " 'they',\n",
       " 'them',\n",
       " 'their',\n",
       " 'theirs',\n",
       " 'themselves',\n",
       " 'what',\n",
       " 'which',\n",
       " 'who',\n",
       " 'whom',\n",
       " 'this',\n",
       " 'that',\n",
       " \"that'll\",\n",
       " 'these',\n",
       " 'those',\n",
       " 'am',\n",
       " 'is',\n",
       " 'are',\n",
       " 'was',\n",
       " 'were',\n",
       " 'be',\n",
       " 'been',\n",
       " 'being',\n",
       " 'have',\n",
       " 'has',\n",
       " 'had',\n",
       " 'having',\n",
       " 'do',\n",
       " 'does',\n",
       " 'did',\n",
       " 'doing',\n",
       " 'a',\n",
       " 'an',\n",
       " 'the',\n",
       " 'and',\n",
       " 'but',\n",
       " 'if',\n",
       " 'or',\n",
       " 'because',\n",
       " 'as',\n",
       " 'until',\n",
       " 'while',\n",
       " 'of',\n",
       " 'at',\n",
       " 'by',\n",
       " 'for',\n",
       " 'with',\n",
       " 'about',\n",
       " 'against',\n",
       " 'between',\n",
       " 'into',\n",
       " 'through',\n",
       " 'during',\n",
       " 'before',\n",
       " 'after',\n",
       " 'above',\n",
       " 'below',\n",
       " 'to',\n",
       " 'from',\n",
       " 'up',\n",
       " 'down',\n",
       " 'in',\n",
       " 'out',\n",
       " 'on',\n",
       " 'off',\n",
       " 'over',\n",
       " 'under',\n",
       " 'again',\n",
       " 'further',\n",
       " 'then',\n",
       " 'once',\n",
       " 'here',\n",
       " 'there',\n",
       " 'when',\n",
       " 'where',\n",
       " 'why',\n",
       " 'how',\n",
       " 'all',\n",
       " 'any',\n",
       " 'both',\n",
       " 'each',\n",
       " 'few',\n",
       " 'more',\n",
       " 'most',\n",
       " 'other',\n",
       " 'some',\n",
       " 'such',\n",
       " 'no',\n",
       " 'nor',\n",
       " 'not',\n",
       " 'only',\n",
       " 'own',\n",
       " 'same',\n",
       " 'so',\n",
       " 'than',\n",
       " 'too',\n",
       " 'very',\n",
       " 's',\n",
       " 't',\n",
       " 'can',\n",
       " 'will',\n",
       " 'just',\n",
       " 'don',\n",
       " \"don't\",\n",
       " 'should',\n",
       " \"should've\",\n",
       " 'now',\n",
       " 'd',\n",
       " 'll',\n",
       " 'm',\n",
       " 'o',\n",
       " 're',\n",
       " 've',\n",
       " 'y',\n",
       " 'ain',\n",
       " 'aren',\n",
       " \"aren't\",\n",
       " 'couldn',\n",
       " \"couldn't\",\n",
       " 'didn',\n",
       " \"didn't\",\n",
       " 'doesn',\n",
       " \"doesn't\",\n",
       " 'hadn',\n",
       " \"hadn't\",\n",
       " 'hasn',\n",
       " \"hasn't\",\n",
       " 'haven',\n",
       " \"haven't\",\n",
       " 'isn',\n",
       " \"isn't\",\n",
       " 'ma',\n",
       " 'mightn',\n",
       " \"mightn't\",\n",
       " 'mustn',\n",
       " \"mustn't\",\n",
       " 'needn',\n",
       " \"needn't\",\n",
       " 'shan',\n",
       " \"shan't\",\n",
       " 'shouldn',\n",
       " \"shouldn't\",\n",
       " 'wasn',\n",
       " \"wasn't\",\n",
       " 'weren',\n",
       " \"weren't\",\n",
       " 'won',\n",
       " \"won't\",\n",
       " 'wouldn',\n",
       " \"wouldn't\"]"
      ]
     },
     "execution_count": 14,
     "metadata": {},
     "output_type": "execute_result"
    }
   ],
   "source": [
    "stop_words = stopwords.words('english')\n",
    "stop_words"
   ]
  },
  {
   "cell_type": "code",
   "execution_count": 15,
   "id": "52bf5d0c",
   "metadata": {},
   "outputs": [
    {
     "data": {
      "text/plain": [
       "[('We', 'PRP'),\n",
       " ('will', 'MD'),\n",
       " ('see', 'VB'),\n",
       " ('an', 'DT'),\n",
       " ('example', 'NN'),\n",
       " ('of', 'IN'),\n",
       " ('POS', 'NNP'),\n",
       " ('tagging', 'NN'),\n",
       " ('.', '.')]"
      ]
     },
     "execution_count": 15,
     "metadata": {},
     "output_type": "execute_result"
    }
   ],
   "source": [
    "data =' We will see an example of POS tagging.'\n",
    "\n",
    "pos = nltk.pos_tag(nltk.word_tokenize(data))\n",
    "\n",
    "pos"
   ]
  },
  {
   "cell_type": "code",
   "execution_count": 16,
   "id": "af9e123f",
   "metadata": {},
   "outputs": [
    {
     "data": {
      "text/plain": [
       "[('I', 'PRP'),\n",
       " ('have', 'VBP'),\n",
       " ('three', 'CD'),\n",
       " ('visions', 'NNS'),\n",
       " ('for', 'IN'),\n",
       " ('India', 'NNP'),\n",
       " ('.', '.'),\n",
       " ('In', 'IN'),\n",
       " ('3000', 'CD'),\n",
       " ('years', 'NNS'),\n",
       " ('of', 'IN'),\n",
       " ('our', 'PRP$'),\n",
       " ('history', 'NN'),\n",
       " (',', ','),\n",
       " ('people', 'NNS'),\n",
       " ('from', 'IN'),\n",
       " ('all', 'DT'),\n",
       " ('over', 'IN'),\n",
       " ('the', 'DT'),\n",
       " ('world', 'NN'),\n",
       " ('have', 'VBP'),\n",
       " ('come', 'VBN'),\n",
       " ('and', 'CC'),\n",
       " ('invaded', 'VBN'),\n",
       " ('us', 'PRP'),\n",
       " (',', ','),\n",
       " ('captured', 'VBD'),\n",
       " ('our', 'PRP$'),\n",
       " ('lands', 'NNS'),\n",
       " (',', ','),\n",
       " ('conquered', 'VBD'),\n",
       " ('our', 'PRP$'),\n",
       " ('minds', 'NNS'),\n",
       " ('.', '.'),\n",
       " ('From', 'IN'),\n",
       " ('Alexander', 'NNP'),\n",
       " ('onwards', 'NNS'),\n",
       " (',', ','),\n",
       " ('the', 'DT'),\n",
       " ('Greeks', 'NNP'),\n",
       " (',', ','),\n",
       " ('the', 'DT'),\n",
       " ('Turks', 'NNP'),\n",
       " (',', ','),\n",
       " ('the', 'DT'),\n",
       " ('Moguls', 'NNP'),\n",
       " (',', ','),\n",
       " ('the', 'DT'),\n",
       " ('Portuguese', 'NNP'),\n",
       " (',', ','),\n",
       " ('the', 'DT'),\n",
       " ('British', 'JJ'),\n",
       " (',', ','),\n",
       " ('the', 'DT'),\n",
       " ('French', 'JJ'),\n",
       " (',', ','),\n",
       " ('the', 'DT'),\n",
       " ('Dutch', 'NNP'),\n",
       " (',', ','),\n",
       " ('all', 'DT'),\n",
       " ('of', 'IN'),\n",
       " ('them', 'PRP'),\n",
       " ('came', 'VBD'),\n",
       " ('and', 'CC'),\n",
       " ('looted', 'VBD'),\n",
       " ('us', 'PRP'),\n",
       " (',', ','),\n",
       " ('took', 'VBD'),\n",
       " ('over', 'RP'),\n",
       " ('what', 'WP'),\n",
       " ('was', 'VBD'),\n",
       " ('ours', 'RB'),\n",
       " ('.', '.'),\n",
       " ('Yet', 'CC'),\n",
       " ('we', 'PRP'),\n",
       " ('have', 'VBP'),\n",
       " ('not', 'RB'),\n",
       " ('done', 'VBN'),\n",
       " ('this', 'DT'),\n",
       " ('to', 'TO'),\n",
       " ('any', 'DT'),\n",
       " ('other', 'JJ'),\n",
       " ('nation', 'NN'),\n",
       " ('.', '.'),\n",
       " ('We', 'PRP'),\n",
       " ('have', 'VBP'),\n",
       " ('not', 'RB'),\n",
       " ('conquered', 'VBN'),\n",
       " ('anyone', 'NN'),\n",
       " ('.', '.'),\n",
       " ('We', 'PRP'),\n",
       " ('have', 'VBP'),\n",
       " ('not', 'RB'),\n",
       " ('grabbed', 'VBN'),\n",
       " ('their', 'PRP$'),\n",
       " ('land', 'NN'),\n",
       " (',', ','),\n",
       " ('their', 'PRP$'),\n",
       " ('culture', 'NN'),\n",
       " (',', ','),\n",
       " ('their', 'PRP$'),\n",
       " ('history', 'NN'),\n",
       " ('and', 'CC'),\n",
       " ('tried', 'VBD'),\n",
       " ('to', 'TO'),\n",
       " ('enforce', 'VB'),\n",
       " ('our', 'PRP$'),\n",
       " ('way', 'NN'),\n",
       " ('of', 'IN'),\n",
       " ('life', 'NN'),\n",
       " ('on', 'IN'),\n",
       " ('them', 'PRP'),\n",
       " ('.', '.'),\n",
       " ('Why', 'WRB'),\n",
       " ('?', '.'),\n",
       " ('Because', 'IN'),\n",
       " ('we', 'PRP'),\n",
       " ('respect', 'VBP'),\n",
       " ('the', 'DT'),\n",
       " ('freedom', 'NN'),\n",
       " ('of', 'IN'),\n",
       " ('others.That', 'WP'),\n",
       " ('is', 'VBZ'),\n",
       " ('why', 'WRB'),\n",
       " ('my', 'PRP$'),\n",
       " ('first', 'JJ'),\n",
       " ('vision', 'NN'),\n",
       " ('is', 'VBZ'),\n",
       " ('that', 'IN'),\n",
       " ('of', 'IN'),\n",
       " ('freedom', 'NN'),\n",
       " ('.', '.'),\n",
       " ('I', 'PRP'),\n",
       " ('believe', 'VBP'),\n",
       " ('that', 'IN'),\n",
       " ('India', 'NNP'),\n",
       " ('got', 'VBD'),\n",
       " ('its', 'PRP$'),\n",
       " ('first', 'JJ'),\n",
       " ('vision', 'NN'),\n",
       " ('of', 'IN'),\n",
       " ('this', 'DT'),\n",
       " ('in', 'IN'),\n",
       " ('1857', 'CD'),\n",
       " (',', ','),\n",
       " ('when', 'WRB'),\n",
       " ('we', 'PRP'),\n",
       " ('started', 'VBD'),\n",
       " ('the', 'DT'),\n",
       " ('War', 'NNP'),\n",
       " ('of', 'IN'),\n",
       " ('Independence', 'NNP'),\n",
       " ('.', '.'),\n",
       " ('It', 'PRP'),\n",
       " ('is', 'VBZ'),\n",
       " ('this', 'DT'),\n",
       " ('freedom', 'NN'),\n",
       " ('that', 'IN'),\n",
       " ('we', 'PRP'),\n",
       " ('must', 'MD'),\n",
       " ('protect', 'VB'),\n",
       " ('and', 'CC'),\n",
       " ('nurture', 'NN'),\n",
       " ('and', 'CC'),\n",
       " ('build', 'VB'),\n",
       " ('on', 'IN'),\n",
       " ('.', '.'),\n",
       " ('If', 'IN'),\n",
       " ('we', 'PRP'),\n",
       " ('are', 'VBP'),\n",
       " ('not', 'RB'),\n",
       " ('free', 'JJ'),\n",
       " (',', ','),\n",
       " ('no', 'DT'),\n",
       " ('one', 'NN'),\n",
       " ('will', 'MD'),\n",
       " ('respect', 'VB'),\n",
       " ('us', 'PRP'),\n",
       " ('.', '.'),\n",
       " ('My', 'PRP$'),\n",
       " ('second', 'JJ'),\n",
       " ('vision', 'NN'),\n",
       " ('for', 'IN'),\n",
       " ('India', 'NNP'),\n",
       " ('’', 'NNP'),\n",
       " ('s', 'NN'),\n",
       " ('development', 'NN'),\n",
       " ('.', '.'),\n",
       " ('For', 'IN'),\n",
       " ('fifty', 'JJ'),\n",
       " ('years', 'NNS'),\n",
       " ('we', 'PRP'),\n",
       " ('have', 'VBP'),\n",
       " ('been', 'VBN'),\n",
       " ('a', 'DT'),\n",
       " ('developing', 'VBG'),\n",
       " ('nation', 'NN'),\n",
       " ('.', '.'),\n",
       " ('It', 'PRP'),\n",
       " ('is', 'VBZ'),\n",
       " ('time', 'NN'),\n",
       " ('we', 'PRP'),\n",
       " ('see', 'VBP'),\n",
       " ('ourselves', 'PRP'),\n",
       " ('as', 'IN'),\n",
       " ('a', 'DT'),\n",
       " ('developed', 'JJ'),\n",
       " ('nation', 'NN'),\n",
       " ('.', '.'),\n",
       " ('We', 'PRP'),\n",
       " ('are', 'VBP'),\n",
       " ('among', 'IN'),\n",
       " ('the', 'DT'),\n",
       " ('top', 'JJ'),\n",
       " ('5', 'CD'),\n",
       " ('nations', 'NNS'),\n",
       " ('of', 'IN'),\n",
       " ('the', 'DT'),\n",
       " ('world', 'NN'),\n",
       " ('in', 'IN'),\n",
       " ('terms', 'NNS'),\n",
       " ('of', 'IN'),\n",
       " ('GDP', 'NNP'),\n",
       " ('.', '.'),\n",
       " ('We', 'PRP'),\n",
       " ('have', 'VBP'),\n",
       " ('a', 'DT'),\n",
       " ('10', 'CD'),\n",
       " ('percent', 'NN'),\n",
       " ('growth', 'NN'),\n",
       " ('rate', 'NN'),\n",
       " ('in', 'IN'),\n",
       " ('most', 'JJS'),\n",
       " ('areas', 'NNS'),\n",
       " ('.', '.'),\n",
       " ('Our', 'PRP$'),\n",
       " ('poverty', 'NN'),\n",
       " ('levels', 'NNS'),\n",
       " ('are', 'VBP'),\n",
       " ('falling', 'VBG'),\n",
       " ('.', '.'),\n",
       " ('Our', 'PRP$'),\n",
       " ('achievements', 'NNS'),\n",
       " ('are', 'VBP'),\n",
       " ('being', 'VBG'),\n",
       " ('globally', 'RB'),\n",
       " ('recognised', 'VBN'),\n",
       " ('today', 'NN'),\n",
       " ('.', '.'),\n",
       " ('Yet', 'CC'),\n",
       " ('we', 'PRP'),\n",
       " ('lack', 'VBP'),\n",
       " ('the', 'DT'),\n",
       " ('self-confidence', 'NN'),\n",
       " ('to', 'TO'),\n",
       " ('see', 'VB'),\n",
       " ('ourselves', 'PRP'),\n",
       " ('as', 'IN'),\n",
       " ('a', 'DT'),\n",
       " ('developed', 'JJ'),\n",
       " ('nation', 'NN'),\n",
       " (',', ','),\n",
       " ('self-reliant', 'JJ'),\n",
       " ('and', 'CC'),\n",
       " ('self-assured', 'JJ'),\n",
       " ('.', '.'),\n",
       " ('Isn', 'NNP'),\n",
       " ('’', 'NNP'),\n",
       " ('t', 'NN'),\n",
       " ('this', 'DT'),\n",
       " ('incorrect', 'NN'),\n",
       " ('?', '.'),\n",
       " ('I', 'PRP'),\n",
       " ('have', 'VBP'),\n",
       " ('a', 'DT'),\n",
       " ('third', 'JJ'),\n",
       " ('vision', 'NN'),\n",
       " ('.', '.'),\n",
       " ('India', 'NNP'),\n",
       " ('must', 'MD'),\n",
       " ('stand', 'VB'),\n",
       " ('up', 'RP'),\n",
       " ('to', 'TO'),\n",
       " ('the', 'DT'),\n",
       " ('world', 'NN'),\n",
       " ('.', '.'),\n",
       " ('Because', 'IN'),\n",
       " ('I', 'PRP'),\n",
       " ('believe', 'VBP'),\n",
       " ('that', 'IN'),\n",
       " ('unless', 'IN'),\n",
       " ('India', 'NNP'),\n",
       " ('stands', 'VBZ'),\n",
       " ('up', 'RP'),\n",
       " ('to', 'TO'),\n",
       " ('the', 'DT'),\n",
       " ('world', 'NN'),\n",
       " (',', ','),\n",
       " ('no', 'DT'),\n",
       " ('one', 'NN'),\n",
       " ('will', 'MD'),\n",
       " ('respect', 'VB'),\n",
       " ('us', 'PRP'),\n",
       " ('.', '.'),\n",
       " ('Only', 'RB'),\n",
       " ('strength', 'NN'),\n",
       " ('respects', 'NNS'),\n",
       " ('strength', 'NN'),\n",
       " ('.', '.'),\n",
       " ('We', 'PRP'),\n",
       " ('must', 'MD'),\n",
       " ('be', 'VB'),\n",
       " ('strong', 'JJ'),\n",
       " ('not', 'RB'),\n",
       " ('only', 'RB'),\n",
       " ('as', 'IN'),\n",
       " ('a', 'DT'),\n",
       " ('military', 'JJ'),\n",
       " ('power', 'NN'),\n",
       " ('but', 'CC'),\n",
       " ('also', 'RB'),\n",
       " ('as', 'IN'),\n",
       " ('an', 'DT'),\n",
       " ('economic', 'JJ'),\n",
       " ('power', 'NN'),\n",
       " ('.', '.'),\n",
       " ('Both', 'DT'),\n",
       " ('must', 'MD'),\n",
       " ('go', 'VB'),\n",
       " ('hand-in-hand', 'NN'),\n",
       " ('.', '.'),\n",
       " ('My', 'PRP$'),\n",
       " ('good', 'JJ'),\n",
       " ('fortune', 'NN'),\n",
       " ('was', 'VBD'),\n",
       " ('to', 'TO'),\n",
       " ('have', 'VB'),\n",
       " ('worked', 'VBN'),\n",
       " ('with', 'IN'),\n",
       " ('three', 'CD'),\n",
       " ('great', 'JJ'),\n",
       " ('minds', 'NNS'),\n",
       " ('.', '.'),\n",
       " ('Dr.', 'NNP'),\n",
       " ('Vikram', 'NNP'),\n",
       " ('Sarabhai', 'NNP'),\n",
       " ('of', 'IN'),\n",
       " ('the', 'DT'),\n",
       " ('Dept', 'NNP'),\n",
       " ('.', '.'),\n",
       " ('of', 'IN'),\n",
       " ('space', 'NN'),\n",
       " (',', ','),\n",
       " ('Professor', 'NNP'),\n",
       " ('Satish', 'NNP'),\n",
       " ('Dhawan', 'NNP'),\n",
       " (',', ','),\n",
       " ('who', 'WP'),\n",
       " ('succeeded', 'VBD'),\n",
       " ('him', 'PRP'),\n",
       " ('and', 'CC'),\n",
       " ('Dr.', 'NNP'),\n",
       " ('Brahm', 'NNP'),\n",
       " ('Prakash', 'NNP'),\n",
       " (',', ','),\n",
       " ('father', 'NN'),\n",
       " ('of', 'IN'),\n",
       " ('nuclear', 'JJ'),\n",
       " ('material', 'NN'),\n",
       " ('.', '.'),\n",
       " ('I', 'PRP'),\n",
       " ('was', 'VBD'),\n",
       " ('lucky', 'JJ'),\n",
       " ('to', 'TO'),\n",
       " ('have', 'VB'),\n",
       " ('worked', 'VBN'),\n",
       " ('with', 'IN'),\n",
       " ('all', 'DT'),\n",
       " ('three', 'CD'),\n",
       " ('of', 'IN'),\n",
       " ('them', 'PRP'),\n",
       " ('closely', 'RB'),\n",
       " ('and', 'CC'),\n",
       " ('consider', 'VB'),\n",
       " ('this', 'DT'),\n",
       " ('the', 'DT'),\n",
       " ('great', 'JJ'),\n",
       " ('opportunity', 'NN'),\n",
       " ('of', 'IN'),\n",
       " ('my', 'PRP$'),\n",
       " ('life', 'NN'),\n",
       " ('.', '.'),\n",
       " ('I', 'PRP'),\n",
       " ('see', 'VBP'),\n",
       " ('four', 'CD'),\n",
       " ('milestones', 'NNS'),\n",
       " ('in', 'IN'),\n",
       " ('my', 'PRP$'),\n",
       " ('career', 'NN')]"
      ]
     },
     "execution_count": 16,
     "metadata": {},
     "output_type": "execute_result"
    }
   ],
   "source": [
    "words = nltk.word_tokenize(paragraph)\n",
    "\n",
    "Pos_tag = nltk.pos_tag(words)\n",
    "\n",
    "\n",
    "Pos_tag"
   ]
  },
  {
   "cell_type": "code",
   "execution_count": 17,
   "id": "f83a7b6c",
   "metadata": {},
   "outputs": [
    {
     "data": {
      "text/plain": [
       "'!\"#$%&\\'()*+,-./:;<=>?@[\\\\]^_`{|}~'"
      ]
     },
     "execution_count": 17,
     "metadata": {},
     "output_type": "execute_result"
    }
   ],
   "source": [
    "# We also have punctuations which we can ignore from our set of words just like stopwords.\n",
    "\n",
    "import string\n",
    "import nltk\n",
    "import string\n",
    "from nltk.corpus import stopwords\n",
    "\n",
    "punct =string.punctuation\n",
    "punct"
   ]
  },
  {
   "cell_type": "code",
   "execution_count": 18,
   "id": "6e57587d",
   "metadata": {},
   "outputs": [
    {
     "name": "stdout",
     "output_type": "stream",
     "text": [
      "['Abraham', 'Lincoln', 'American', 'lawyer', 'statesman', 'served', '16th', 'president', 'United', 'States', '1861', 'assassination', '1865', 'Lincoln', 'led', 'nation', 'American', 'Civil', 'War', 'country', \"'s\", 'greatest', 'moral', 'cultural', 'constitutional', 'political', 'crisis', 'He', 'succeeded', 'preserving', 'Union', 'abolishing', 'slavery', 'bolstering', 'federal', 'government', 'modernizing', 'U.S.', 'economy']\n"
     ]
    }
   ],
   "source": [
    "# Let's word tokenize the given sample after we remove the stopwords and punctuation. \n",
    "stop_words = stopwords.words('english')\n",
    "punct =string.punctuation\n",
    "\n",
    "data = '''Abraham Lincoln was an American lawyer and statesman who \n",
    "served as the 16th president of the United States from 1861 until his \n",
    "assassination in 1865. Lincoln led the nation through the American \n",
    "Civil War, the country's greatest moral, cultural, constitutional, \n",
    "and political crisis. He succeeded in preserving the Union, abolishing \n",
    "slavery, bolstering the federal government, and modernizing the \n",
    "U.S. economy.'''\n",
    "clean_data =[]\n",
    "\n",
    "for word in nltk.word_tokenize(data):\n",
    "    if word not in punct:\n",
    "        if word not in stop_words:\n",
    "            clean_data.append(word)\n",
    "            \n",
    "print(clean_data)"
   ]
  },
  {
   "cell_type": "code",
   "execution_count": 19,
   "id": "21bac3be",
   "metadata": {},
   "outputs": [
    {
     "data": {
      "text/plain": [
       "[('Abraham', 'NNP'),\n",
       " ('Lincoln', 'NNP'),\n",
       " ('American', 'NNP'),\n",
       " ('lawyer', 'NN'),\n",
       " ('statesman', 'NN'),\n",
       " ('served', 'VBD'),\n",
       " ('16th', 'CD'),\n",
       " ('president', 'NN'),\n",
       " ('United', 'NNP'),\n",
       " ('States', 'NNPS'),\n",
       " ('1861', 'CD'),\n",
       " ('assassination', 'NN'),\n",
       " ('1865', 'CD'),\n",
       " ('Lincoln', 'NNP'),\n",
       " ('led', 'VBD'),\n",
       " ('nation', 'NN'),\n",
       " ('American', 'NNP'),\n",
       " ('Civil', 'NNP'),\n",
       " ('War', 'NNP'),\n",
       " ('country', 'NN'),\n",
       " (\"'s\", 'POS'),\n",
       " ('greatest', 'JJS'),\n",
       " ('moral', 'JJ'),\n",
       " ('cultural', 'JJ'),\n",
       " ('constitutional', 'JJ'),\n",
       " ('political', 'JJ'),\n",
       " ('crisis', 'NN'),\n",
       " ('He', 'PRP'),\n",
       " ('succeeded', 'VBD'),\n",
       " ('preserving', 'VBG'),\n",
       " ('Union', 'NNP'),\n",
       " ('abolishing', 'VBG'),\n",
       " ('slavery', 'NN'),\n",
       " ('bolstering', 'VBG'),\n",
       " ('federal', 'JJ'),\n",
       " ('government', 'NN'),\n",
       " ('modernizing', 'VBG'),\n",
       " ('U.S.', 'NNP'),\n",
       " ('economy', 'NN')]"
      ]
     },
     "execution_count": 19,
     "metadata": {},
     "output_type": "execute_result"
    }
   ],
   "source": [
    "nltk.pos_tag(clean_data)"
   ]
  },
  {
   "cell_type": "code",
   "execution_count": 20,
   "id": "2a5dda28",
   "metadata": {},
   "outputs": [
    {
     "name": "stdout",
     "output_type": "stream",
     "text": [
      "(S\n",
      "  (PERSON Abraham/NNP)\n",
      "  (PERSON Lincoln/NNP American/NNP)\n",
      "  lawyer/NN\n",
      "  statesman/NN\n",
      "  served/VBD\n",
      "  16th/CD\n",
      "  president/NN\n",
      "  (GPE United/NNP States/NNPS)\n",
      "  1861/CD\n",
      "  assassination/NN\n",
      "  1865/CD\n",
      "  (PERSON Lincoln/NNP)\n",
      "  led/VBD\n",
      "  nation/NN\n",
      "  (ORGANIZATION American/NNP)\n",
      "  Civil/NNP\n",
      "  War/NNP\n",
      "  country/NN\n",
      "  's/POS\n",
      "  greatest/JJS\n",
      "  moral/JJ\n",
      "  cultural/JJ\n",
      "  constitutional/JJ\n",
      "  political/JJ\n",
      "  crisis/NN\n",
      "  He/PRP\n",
      "  succeeded/VBD\n",
      "  preserving/VBG\n",
      "  (PERSON Union/NNP)\n",
      "  abolishing/VBG\n",
      "  slavery/NN\n",
      "  bolstering/VBG\n",
      "  federal/JJ\n",
      "  government/NN\n",
      "  modernizing/VBG\n",
      "  (GPE U.S./NNP)\n",
      "  economy/NN)\n"
     ]
    }
   ],
   "source": [
    "pos_tag = nltk.pos_tag(clean_data)\n",
    "namedEntity = nltk.ne_chunk(pos_tag)\n",
    "print(namedEntity)"
   ]
  },
  {
   "cell_type": "code",
   "execution_count": 21,
   "id": "6fd91016",
   "metadata": {},
   "outputs": [
    {
     "data": {
      "text/html": [
       "<div>\n",
       "<style scoped>\n",
       "    .dataframe tbody tr th:only-of-type {\n",
       "        vertical-align: middle;\n",
       "    }\n",
       "\n",
       "    .dataframe tbody tr th {\n",
       "        vertical-align: top;\n",
       "    }\n",
       "\n",
       "    .dataframe thead th {\n",
       "        text-align: right;\n",
       "    }\n",
       "</style>\n",
       "<table border=\"1\" class=\"dataframe\">\n",
       "  <thead>\n",
       "    <tr style=\"text-align: right;\">\n",
       "      <th></th>\n",
       "      <th>Unnamed: 0</th>\n",
       "      <th>Tweets</th>\n",
       "      <th>Analysis</th>\n",
       "    </tr>\n",
       "  </thead>\n",
       "  <tbody>\n",
       "    <tr>\n",
       "      <th>0</th>\n",
       "      <td>0</td>\n",
       "      <td>Native of East Hull . Former : police research...</td>\n",
       "      <td>Neutral</td>\n",
       "    </tr>\n",
       "    <tr>\n",
       "      <th>1</th>\n",
       "      <td>1</td>\n",
       "      <td>on colonial &amp; - the which formed part of the -...</td>\n",
       "      <td>Neutral</td>\n",
       "    </tr>\n",
       "    <tr>\n",
       "      <th>2</th>\n",
       "      <td>2</td>\n",
       "      <td>The Interesting With Colour &amp; Style</td>\n",
       "      <td>Positive</td>\n",
       "    </tr>\n",
       "    <tr>\n",
       "      <th>3</th>\n",
       "      <td>3</td>\n",
       "      <td>Next is the daily from Daily group . With a mi...</td>\n",
       "      <td>Neutral</td>\n",
       "    </tr>\n",
       "    <tr>\n",
       "      <th>4</th>\n",
       "      <td>4</td>\n",
       "      <td>This is the official handle of the State Covid...</td>\n",
       "      <td>Neutral</td>\n",
       "    </tr>\n",
       "  </tbody>\n",
       "</table>\n",
       "</div>"
      ],
      "text/plain": [
       "   Unnamed: 0                                             Tweets  Analysis\n",
       "0           0  Native of East Hull . Former : police research...   Neutral\n",
       "1           1  on colonial & - the which formed part of the -...   Neutral\n",
       "2           2                The Interesting With Colour & Style  Positive\n",
       "3           3  Next is the daily from Daily group . With a mi...   Neutral\n",
       "4           4  This is the official handle of the State Covid...   Neutral"
      ]
     },
     "execution_count": 21,
     "metadata": {},
     "output_type": "execute_result"
    }
   ],
   "source": [
    "import pandas as pd\n",
    "df = pd.read_csv(\"Cleaned_tweets.csv\")\n",
    "df.head()"
   ]
  },
  {
   "cell_type": "code",
   "execution_count": 22,
   "id": "1cca26b7",
   "metadata": {},
   "outputs": [
    {
     "data": {
      "text/plain": [
       "4956"
      ]
     },
     "execution_count": 22,
     "metadata": {},
     "output_type": "execute_result"
    }
   ],
   "source": [
    "len(df)"
   ]
  },
  {
   "cell_type": "code",
   "execution_count": 23,
   "id": "17bc09b2",
   "metadata": {},
   "outputs": [
    {
     "data": {
      "text/plain": [
       "Unnamed: 0     0\n",
       "Tweets        24\n",
       "Analysis       0\n",
       "dtype: int64"
      ]
     },
     "execution_count": 23,
     "metadata": {},
     "output_type": "execute_result"
    }
   ],
   "source": [
    "df.isnull().sum()"
   ]
  },
  {
   "cell_type": "code",
   "execution_count": 24,
   "id": "6336930c",
   "metadata": {},
   "outputs": [],
   "source": [
    "df.dropna(inplace=True)"
   ]
  },
  {
   "cell_type": "code",
   "execution_count": 25,
   "id": "2288e74e",
   "metadata": {},
   "outputs": [
    {
     "data": {
      "text/plain": [
       "Unnamed: 0    0\n",
       "Tweets        0\n",
       "Analysis      0\n",
       "dtype: int64"
      ]
     },
     "execution_count": 25,
     "metadata": {},
     "output_type": "execute_result"
    }
   ],
   "source": [
    "df.isnull().sum()"
   ]
  },
  {
   "cell_type": "code",
   "execution_count": 26,
   "id": "9adf0984",
   "metadata": {},
   "outputs": [],
   "source": [
    "tweet = df['Tweets'].to_list()"
   ]
  },
  {
   "cell_type": "code",
   "execution_count": 27,
   "id": "7e62a56d",
   "metadata": {},
   "outputs": [
    {
     "data": {
      "text/plain": [
       "['Native of East Hull . Former : police researcher , financial adviser , logistics manager , microbiologist , viola player socialist',\n",
       " 'on colonial & - the which formed part of the - post & independence not in chronological order',\n",
       " 'The Interesting With Colour & Style',\n",
       " 'Next is the daily from Daily group . With a micro - focus on & , Next incisive coverage on politics , sports , & .',\n",
       " 'This is the official handle of the State Covid19 Emergency Operation .']"
      ]
     },
     "execution_count": 27,
     "metadata": {},
     "output_type": "execute_result"
    }
   ],
   "source": [
    "tweet[0:5]"
   ]
  },
  {
   "cell_type": "code",
   "execution_count": 28,
   "id": "ed58e3ce",
   "metadata": {},
   "outputs": [],
   "source": [
    "import re\n",
    "corpus = []\n",
    "for i in range(0, len(tweet)):\n",
    "    review = re.sub(r'[^a-zA-Z]', ' ', tweet[i])\n",
    "    review = review.lower()\n",
    "    corpus.append(review)"
   ]
  },
  {
   "cell_type": "code",
   "execution_count": 29,
   "id": "9e1966fb",
   "metadata": {},
   "outputs": [
    {
     "name": "stdout",
     "output_type": "stream",
     "text": [
      "['native of east hull   former   police researcher   financial adviser   logistics manager   microbiologist   viola player socialist', 'on colonial     the which formed part of the   post   independence not in chronological order', 'the interesting with colour   style', 'next is the daily from daily group   with a micro   focus on     next incisive coverage on politics   sports      ', 'this is the official handle of the state covid   emergency operation  ']\n"
     ]
    }
   ],
   "source": [
    "print(corpus[:5])"
   ]
  },
  {
   "cell_type": "code",
   "execution_count": 30,
   "id": "58fff5c3",
   "metadata": {},
   "outputs": [],
   "source": [
    "corpus = \" \".join(corpus)"
   ]
  },
  {
   "cell_type": "code",
   "execution_count": 31,
   "id": "b19529c5",
   "metadata": {},
   "outputs": [
    {
     "data": {
      "text/plain": [
       "'native of east hull   former   police researcher   financial adviser   logistics manager   microbiologist   viola player socialist on colonial     the which formed part of the   post   independence not in chronological order the interesting with colour   style next is the daily from daily group   with a micro   focus on     next incisive coverage on politics   sports       this is the official handle of the state covid   emergency operation   health   politics   social history world   citizen      eu      my own   miller drinking chicken eating dress so fly water and firm in consulting   treatment plant and collection   and construction   you news and on current   latest news from stock and global   real   time information and   nifty bank deputy news editor at news   author of life in the clock tower valley by in march        order at logistics in cargo   freight clearing   overseas cargo pickup and car importation   we respond to within     call                    the narrative on th'"
      ]
     },
     "execution_count": 31,
     "metadata": {},
     "output_type": "execute_result"
    }
   ],
   "source": [
    "corpus[:1000]"
   ]
  },
  {
   "cell_type": "code",
   "execution_count": 32,
   "id": "8ee34b35",
   "metadata": {},
   "outputs": [
    {
     "name": "stdout",
     "output_type": "stream",
     "text": [
      "['native', 'of', 'east', 'hull', 'former', 'police', 'researcher', 'financial', 'adviser', 'logistics', 'manager', 'microbiologist', 'viola', 'player', 'socialist', 'on', 'colonial', 'the', 'which', 'formed']\n"
     ]
    }
   ],
   "source": [
    "words = nltk.word_tokenize(corpus)\n",
    "\n",
    "print(words[:20])"
   ]
  },
  {
   "cell_type": "code",
   "execution_count": 33,
   "id": "2b560f0c",
   "metadata": {},
   "outputs": [
    {
     "data": {
      "text/plain": [
       "'!\"#$%&\\'()*+,-./:;<=>?@[\\\\]^_`{|}~'"
      ]
     },
     "execution_count": 33,
     "metadata": {},
     "output_type": "execute_result"
    }
   ],
   "source": [
    "import string\n",
    "from nltk.corpus import stopwords\n",
    "\n",
    "punct =string.punctuation\n",
    "punct"
   ]
  },
  {
   "cell_type": "code",
   "execution_count": 34,
   "id": "2417a780",
   "metadata": {},
   "outputs": [
    {
     "name": "stdout",
     "output_type": "stream",
     "text": [
      "['native', 'east', 'hull', 'former', 'police', 'researcher', 'financial', 'adviser', 'logistics', 'manager', 'microbiologist', 'viola', 'player', 'socialist', 'colonial', 'formed', 'part', 'post', 'independence', 'chronological']\n"
     ]
    }
   ],
   "source": [
    "clean_data =[]\n",
    "\n",
    "for word in nltk.word_tokenize(corpus):\n",
    "    if word not in punct:\n",
    "        if word not in stop_words:\n",
    "            clean_data.append(word)\n",
    "            \n",
    "print(clean_data[:20])"
   ]
  },
  {
   "cell_type": "code",
   "execution_count": 35,
   "id": "1afcc505",
   "metadata": {},
   "outputs": [
    {
     "name": "stdout",
     "output_type": "stream",
     "text": [
      "[('native', 'JJ'), ('east', 'NN'), ('hull', 'NN'), ('former', 'JJ'), ('police', 'NN'), ('researcher', 'NN'), ('financial', 'JJ'), ('adviser', 'NN'), ('logistics', 'NNS'), ('manager', 'NN')]\n"
     ]
    }
   ],
   "source": [
    "pos_tags = nltk.pos_tag(clean_data)\n",
    "\n",
    "print(pos_tags[:10])"
   ]
  },
  {
   "cell_type": "code",
   "execution_count": 39,
   "id": "37ead784",
   "metadata": {},
   "outputs": [
    {
     "data": {
      "text/plain": [
       "['nativ', 'east', 'hull', 'former', 'polic']"
      ]
     },
     "execution_count": 39,
     "metadata": {},
     "output_type": "execute_result"
    }
   ],
   "source": [
    "from nltk.stem.porter import PorterStemmer\n",
    "pe = PorterStemmer()\n",
    "\n",
    "stem = []\n",
    "for word in clean_data:\n",
    "    stemmer = pe.stem(word)\n",
    "    stem.append(stemmer)\n",
    "    \n",
    "stem[:5]"
   ]
  },
  {
   "cell_type": "code",
   "execution_count": 40,
   "id": "4a1646d1",
   "metadata": {},
   "outputs": [
    {
     "data": {
      "text/plain": [
       "['native', 'east', 'hull', 'former', 'police']"
      ]
     },
     "execution_count": 40,
     "metadata": {},
     "output_type": "execute_result"
    }
   ],
   "source": [
    "from nltk.stem import WordNetLemmatizer\n",
    "\n",
    "lemma = WordNetLemmatizer()\n",
    "\n",
    "lem=[]\n",
    "for word in clean_data:\n",
    "    lemmatize = lemma.lemmatize(word)\n",
    "    lem.append(lemmatize)\n",
    "    \n",
    "lem[:5]"
   ]
  }
 ],
 "metadata": {
  "kernelspec": {
   "display_name": "Python 3",
   "language": "python",
   "name": "python3"
  },
  "language_info": {
   "codemirror_mode": {
    "name": "ipython",
    "version": 3
   },
   "file_extension": ".py",
   "mimetype": "text/x-python",
   "name": "python",
   "nbconvert_exporter": "python",
   "pygments_lexer": "ipython3",
   "version": "3.8.8"
  }
 },
 "nbformat": 4,
 "nbformat_minor": 5
}
